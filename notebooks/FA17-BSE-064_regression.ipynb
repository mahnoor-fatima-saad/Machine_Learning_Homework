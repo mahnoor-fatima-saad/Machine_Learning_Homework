{
 "cells": [
  {
   "cell_type": "code",
   "execution_count": 1,
   "metadata": {
    "collapsed": true
   },
   "outputs": [
    {
     "name": "stdout",
     "output_type": "stream",
     "text": [
      "m:  -6.554878048780488\n",
      "b:  98.5060975609756\n",
      "Predicted Value for x[2]:  85.39634146341463\n"
     ]
    },
    {
     "data": {
      "text/plain": "<Figure size 432x288 with 1 Axes>",
      "image/png": "[encoded data removed]"
     },
     "metadata": {
      "needs_background": "light"
     },
     "output_type": "display_data"
    }
   ],
   "source": [
    "#Conventional Regression Line Calculation\n",
    "import numpy as np\n",
    "import math\n",
    "import matplotlib.pyplot as plt\n",
    "\n",
    "array1 = [1,0,2,6,4,3,3]\n",
    "array2 = [95,90,90,55,70,80,85]\n",
    "\n",
    "\n",
    "\n",
    "x = np.array(array1)\n",
    "y = np.array(array2)\n",
    "\n",
    "\n",
    "\n",
    "sumX = np.sum(x)\n",
    "sumY = np.sum(y)\n",
    "xy = np.dot(x,y)\n",
    "sumXY = np.sum(xy)\n",
    "xSquare = np.square(x)\n",
    "sumxSquare = np.sum(xSquare)\n",
    "n = len(x)\n",
    "\n",
    "mNumerator = (np.multiply(n,sumXY)) - (np.multiply(sumX,sumY))\n",
    "mDenominator = (np.multiply(n,sumxSquare)) - (np.square(sumX))\n",
    "\n",
    "m = mNumerator/mDenominator\n",
    "\n",
    "print('m: ',m)\n",
    "\n",
    "b = (sumY/n) - np.multiply(m,(sumX/n))\n",
    "\n",
    "print('b: ',b)\n",
    "\n",
    "yhat = (m*x) + b\n",
    "print('Predicted Value for x[2]: ',yhat[2])\n",
    "\n",
    "plt.scatter(x,y)\n",
    "plt.plot(x,yhat,color = 'red')\n",
    "plt.show()\n"
   ]
  },
  {
   "cell_type": "code",
   "execution_count": 2,
   "outputs": [
    {
     "name": "stdout",
     "output_type": "stream",
     "text": [
      "m:  [[-6.55487805]]\n",
      "b:  [98.50609756]\n",
      "Predicted Value for x[2]:  [[85.39634146]]\n"
     ]
    },
    {
     "data": {
      "text/plain": "[<matplotlib.lines.Line2D at 0x2466f7e0610>]"
     },
     "execution_count": 2,
     "metadata": {},
     "output_type": "execute_result"
    },
    {
     "data": {
      "text/plain": "<Figure size 432x288 with 1 Axes>",
      "image/png": "[encoded data removed]"
     },
     "metadata": {
      "needs_background": "light"
     },
     "output_type": "display_data"
    }
   ],
   "source": [
    "# SciKit Method of Regression Line Calculation\n",
    "\n",
    "from sklearn.linear_model import LinearRegression\n",
    "x = x.reshape(-1,1)\n",
    "y = y.reshape(-1,1)\n",
    "model = LinearRegression()\n",
    "model.fit(x,y)\n",
    "print('m: ',model.coef_)\n",
    "print('b: ', model.intercept_)\n",
    "print('Predicted Value for x[2]: ',model.predict(x[[2]]))\n",
    "plt.scatter(x,y)\n",
    "plt.plot(x,model.predict(x),color='red')"
   ],
   "metadata": {
    "collapsed": false,
    "pycharm": {
     "name": "#%%\n"
    }
   }
  },
  {
   "cell_type": "code",
   "execution_count": null,
   "outputs": [],
   "source": [],
   "metadata": {
    "collapsed": false,
    "pycharm": {
     "name": "#%%\n"
    }
   }
  }
 ],
 "metadata": {
  "kernelspec": {
   "name": "machinelearningenv",
   "language": "python",
   "display_name": "Python (MachineLearningEnv)"
  },
  "language_info": {
   "codemirror_mode": {
    "name": "ipython",
    "version": 2
   },
   "file_extension": ".py",
   "mimetype": "text/x-python",
   "name": "python",
   "nbconvert_exporter": "python",
   "pygments_lexer": "ipython2",
   "version": "2.7.6"
  }
 },
 "nbformat": 4,
 "nbformat_minor": 0
}