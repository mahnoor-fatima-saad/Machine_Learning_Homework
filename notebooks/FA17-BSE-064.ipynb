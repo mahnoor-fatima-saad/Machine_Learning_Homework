{
 "cells": [
  {
   "cell_type": "code",
   "execution_count": 162,
   "metadata": {
    "collapsed": true
   },
   "outputs": [
    {
     "name": "stdout",
     "output_type": "stream",
     "text": [
      "\n",
      "*\n",
      "**\n",
      "***\n",
      "****\n",
      "*****\n",
      "******\n",
      "*******\n",
      "********\n",
      "*********\n"
     ]
    }
   ],
   "source": [
    "def buildRightAngledTriangle():\n",
    "  lastNumber = int(input(\"Enter Max Stars in Last Row: \"))\n",
    "  for x in range(lastNumber+1):\n",
    "      print ('*'* x)\n",
    "buildRightAngledTriangle()"
   ]
  },
  {
   "cell_type": "code",
   "execution_count": 163,
   "outputs": [
    {
     "name": "stdout",
     "output_type": "stream",
     "text": [
      "       *\n",
      "      ***\n",
      "     *****\n",
      "    *******\n",
      "   *********\n",
      "  ***********\n",
      " *************\n",
      "***************\n",
      " *************\n",
      "  ***********\n",
      "   *********\n",
      "    *******\n",
      "     *****\n",
      "      ***\n",
      "       *\n"
     ]
    }
   ],
   "source": [
    "import math\n",
    "def buildDiamond():\n",
    "    n = int(input(\"Enter Maximum Number of Stars (Odd Number) in Middle Row: \"))\n",
    "    for i in range(1,(n+1)//2+1):\n",
    "        for j in range((n+1)//2 - i):\n",
    "            print(\" \",end=\"\")\n",
    "        for k in range((i*2)-1):\n",
    "            print(\"*\",end=\"\")\n",
    "        print()\n",
    "\n",
    "    for i in range((n+1)//2+1,n+1):\n",
    "        for j in range(i-(n+1)//2):\n",
    "            print(\" \",end=\"\")\n",
    "        for k in range((n+1-i)*2-1):\n",
    "            print(\"*\",end=\"\")\n",
    "        print()\n",
    "buildDiamond()"
   ],
   "metadata": {
    "collapsed": false,
    "pycharm": {
     "name": "#%%\n"
    }
   }
  },
  {
   "cell_type": "code",
   "execution_count": 164,
   "outputs": [
    {
     "name": "stdout",
     "output_type": "stream",
     "text": [
      "      *\n",
      "     * *\n",
      "    *   *\n",
      "   *     *\n",
      "  *       *\n",
      " *         *\n",
      "*************\n",
      " *         *\n",
      "  *       *\n",
      "   *     *\n",
      "    *   *\n",
      "     * *\n",
      "      *\n"
     ]
    }
   ],
   "source": [
    "def buildHollowDiamond():\n",
    "    n = int(input(\"Enter Maximum Number of Stars (Odd Number) in Middle Row: \"))\n",
    "    for i in range(1,(n+1)//2):\n",
    "        for j in range((n+1)//2 - i):\n",
    "            print(\" \",end=\"\")\n",
    "        for k in range(1,(i*2)):\n",
    "            if(k==1 or k==(2*i)-1 or i==n-1):\n",
    "                print(\"*\",end=\"\")\n",
    "            else:\n",
    "                print(\" \",end=\"\")\n",
    "        print()\n",
    "    for i in range(n):\n",
    "        print(\"*\",end=\"\")\n",
    "    print()\n",
    "\n",
    "    for i in range((n+1)//2+1,n+1):\n",
    "        for j in range(i-(n+1)//2):\n",
    "            print(\" \",end=\"\")\n",
    "        for k in range(1,(n+1-i)*2):\n",
    "            if(k==((n+1-i)*2-1) or k==1 or i ==n+1):\n",
    "                print(\"*\",end=\"\")\n",
    "            else:\n",
    "                print(\" \",end=\"\")\n",
    "        print()\n",
    "buildHollowDiamond()"
   ],
   "metadata": {
    "collapsed": false,
    "pycharm": {
     "name": "#%%\n"
    }
   }
  },
  {
   "cell_type": "code",
   "execution_count": 92,
   "outputs": [
    {
     "name": "stdout",
     "output_type": "stream",
     "text": [
      "*\n",
      "* *\n",
      "*   *\n",
      "*     *\n",
      "*       *\n",
      "*     *\n",
      "*   *\n",
      "* *\n",
      "*\n"
     ]
    }
   ],
   "source": [
    "def buildHollowRightArrow():\n",
    "    n = int(input(\"Enter Maximum Number of Stars (Odd Number) in Middle Row: \"))\n",
    "    for i in range(1,(n+1)//2):\n",
    "\n",
    "        for k in range(1,(i*2)):\n",
    "            if(k==1 or k==(2*i)-1 or i==n-1):\n",
    "                print(\"*\",end=\"\")\n",
    "            else:\n",
    "                print(\" \",end=\"\")\n",
    "        print()\n",
    "\n",
    "\n",
    "    for i in range((n+1)//2,n+1):\n",
    "\n",
    "        for k in range(1,(n+1-i)*2):\n",
    "            if(k==((n+1-i)*2-1) or k==1 or i ==n+1):\n",
    "                print(\"*\",end=\"\")\n",
    "            else:\n",
    "                print(\" \",end=\"\")\n",
    "        print()\n",
    "\n",
    "buildHollowRightArrow()"
   ],
   "metadata": {
    "collapsed": false,
    "pycharm": {
     "name": "#%%\n"
    }
   }
  },
  {
   "cell_type": "code",
   "execution_count": 167,
   "outputs": [
    {
     "name": "stdout",
     "output_type": "stream",
     "text": [
      "                *\n",
      "               ***\n",
      "              *****\n",
      "             *******\n",
      "            *********\n",
      "           ***********\n",
      "          *************\n",
      "         ***************\n",
      " *********************************\n",
      "  *******************************\n",
      "   *****************************\n",
      "    ***************************\n",
      "     *************************\n",
      "      ***********************\n",
      "       *********************\n",
      "        *******************\n",
      "         *****************\n",
      "        ********************\n",
      "       **********************\n",
      "      ************************\n",
      "     **************************\n",
      "    ****************************\n",
      "   ******************************\n",
      "  ********************************\n",
      " **********************************\n",
      "         ***************\n",
      "          *************\n",
      "           ***********\n",
      "            *********\n",
      "             *******\n",
      "              *****\n",
      "               ***\n",
      "                *\n"
     ]
    }
   ],
   "source": [
    "def buildStarofDavid():\n",
    "    n = int(input(\"Enter Maximum Number of Stars: \"))\n",
    "    for i in range(1,(n+1)//2):\n",
    "        print(\" \"*(n//2),end=\"\")\n",
    "        for j in range((n+1)//2 - i):\n",
    "            print(\" \",end=\"\")\n",
    "        for k in range(1,(i*2)):\n",
    "            print(\"*\",end=\"\")\n",
    "        print()\n",
    "\n",
    "    for i in range(1,(n+1)//2+1):\n",
    "        for j in range(i):\n",
    "            print(\" \",end=\"\")\n",
    "        for k in range((n+1-i)*2-1):\n",
    "            print(\"*\",end=\"\")\n",
    "        print()\n",
    "\n",
    "\n",
    "    for i in range((n+1)//2+1,(n+1)):\n",
    "        for j in range(2*(n+1)//2 - i):\n",
    "            print(\" \",end=\"\")\n",
    "        for k in range(i*2):\n",
    "            print(\"*\",end=\"\")\n",
    "        print()\n",
    "\n",
    "    for i in range((n+1)//2+1,n+1):\n",
    "        print(\" \"*(n//2),end=\"\")\n",
    "        for j in range(i-(n+1)//2):\n",
    "            print(\" \",end=\"\")\n",
    "        for k in range((n+1-i)*2-1):\n",
    "            print(\"*\",end=\"\")\n",
    "        print()\n",
    "\n",
    "buildStarofDavid()"
   ],
   "metadata": {
    "collapsed": false,
    "pycharm": {
     "name": "#%%\n"
    }
   }
  },
  {
   "cell_type": "code",
   "execution_count": 161,
   "outputs": [
    {
     "name": "stdout",
     "output_type": "stream",
     "text": [
      "                  *\n",
      "                 * *\n",
      "                *   *\n",
      "               *     *\n",
      "              *       *\n",
      "             *         *\n",
      "            *           *\n",
      "           *             *\n",
      "          *               *\n",
      "         *                 *\n",
      " *************************************\n",
      "  ***********************************\n",
      "   *********************************\n",
      "    *******************************\n",
      "     *****************************\n",
      "      ***************************\n",
      "       *************************\n",
      "        ***********************\n",
      "         *********************\n",
      "          *******************\n",
      "         **********************\n",
      "        ************************\n",
      "       **************************\n",
      "      ****************************\n",
      "     ******************************\n",
      "    ********************************\n",
      "   **********************************\n",
      "  ************************************\n",
      " **************************************\n",
      "          *               *\n",
      "           *             *\n",
      "            *           *\n",
      "             *         *\n",
      "              *       *\n",
      "               *     *\n",
      "                *   *\n",
      "                 * *\n",
      "                  *\n"
     ]
    }
   ],
   "source": [
    "def buildHollowStarofDavid():\n",
    "    n = int(input(\"Enter Maximum Number of Stars: \"))\n",
    "    for i in range(1,(n+1)//2+1):\n",
    "        print(\" \"*(n//2),end=\"\")\n",
    "        for j in range((n+1)//2 - i):\n",
    "            print(\" \",end=\"\")\n",
    "        for k in range(1,(i*2)):\n",
    "            if(k==1 or k==(2*i)-1 or i==n-1):\n",
    "                print(\"*\",end=\"\")\n",
    "            else:\n",
    "                print(\" \",end=\"\")\n",
    "        print()\n",
    "\n",
    "    for i in range(1,(n+1)//2+1):\n",
    "        for j in range(i):\n",
    "            print(\" \",end=\"\")\n",
    "        for k in range((n+1-i)*2-1):\n",
    "            print(\"*\",end=\"\")\n",
    "        print()\n",
    "\n",
    "\n",
    "    for i in range((n+1)//2+1,(n+1)):\n",
    "        for j in range(2*(n+1)//2 - i):\n",
    "            print(\" \",end=\"\")\n",
    "        for k in range(i*2):\n",
    "            print(\"*\",end=\"\")\n",
    "        print()\n",
    "\n",
    "    for i in range((n+1)//2+1,n+1):\n",
    "        print(\" \"*(n//2),end=\"\")\n",
    "        for j in range(i-(n+1)//2):\n",
    "            print(\" \",end=\"\")\n",
    "        for k in range(1,(n+1-i)*2):\n",
    "            if(k==((n+1-i)*2-1) or k==1 or i ==n+1):\n",
    "                print(\"*\",end=\"\")\n",
    "            else:\n",
    "                print(\" \",end=\"\")\n",
    "        print()\n",
    "\n",
    "buildHollowStarofDavid()"
   ],
   "metadata": {
    "collapsed": false,
    "pycharm": {
     "name": "#%%\n"
    }
   }
  },
  {
   "cell_type": "code",
   "execution_count": null,
   "outputs": [],
   "source": [],
   "metadata": {
    "collapsed": false,
    "pycharm": {
     "name": "#%%\n"
    }
   }
  }
 ],
 "metadata": {
  "kernelspec": {
   "name": "machinelearningenv",
   "language": "python",
   "display_name": "Python (MachineLearningEnv)"
  },
  "language_info": {
   "codemirror_mode": {
    "name": "ipython",
    "version": 2
   },
   "file_extension": ".py",
   "mimetype": "text/x-python",
   "name": "python",
   "nbconvert_exporter": "python",
   "pygments_lexer": "ipython2",
   "version": "2.7.6"
  }
 },
 "nbformat": 4,
 "nbformat_minor": 0
}