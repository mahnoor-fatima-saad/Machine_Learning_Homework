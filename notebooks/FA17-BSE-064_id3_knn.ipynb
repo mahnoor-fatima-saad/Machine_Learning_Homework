{
 "cells": [
  {
   "cell_type": "code",
   "execution_count": 5,
   "metadata": {
    "collapsed": true,
    "pycharm": {
     "name": "#%%\n"
    }
   },
   "outputs": [
    {
     "name": "stdout",
     "output_type": "stream",
     "text": [
      "Predicted    Actual\n",
      "    2          2\n",
      "    0          0\n",
      "    2          2\n",
      "    2          2\n",
      "    2          2\n",
      "    1          1\n",
      "    2          1\n",
      "    0          0\n",
      "    0          0\n",
      "    2          2\n",
      "    0          0\n",
      "    0          0\n",
      "    0          0\n",
      "    1          1\n",
      "    2          2\n",
      "    0          0\n",
      "    1          1\n",
      "    0          0\n",
      "    0          0\n",
      "    2          2\n",
      "    0          0\n",
      "    2          2\n",
      "    1          1\n",
      "    0          0\n",
      "    0          0\n",
      "    0          0\n",
      "    0          0\n",
      "    0          0\n",
      "    0          0\n",
      "    2          2\n"
     ]
    }
   ],
   "source": [
    "from sklearn import datasets\n",
    "from sklearn.neighbors import KNeighborsClassifier\n",
    "from sklearn.model_selection import train_test_split\n",
    "\n",
    "\n",
    "iris = datasets.load_iris()\n",
    "\n",
    "X = iris.data\n",
    "y = iris.target\n",
    "\n",
    "x_train,x_test,y_train,y_test = train_test_split(X,y,test_size=0.2,random_state=4)\n",
    "x_test_length = len(x_test)\n",
    "\n",
    "\n",
    "k_range = range(1,26)\n",
    "scores={}\n",
    "scores_list=[]\n",
    "\n",
    "knn = KNeighborsClassifier(n_neighbors=5)\n",
    "knn.fit(X,y)\n",
    "\n",
    "predicted = knn.predict(x_test)\n",
    "print('Predicted', end='    ')\n",
    "print('Actual')\n",
    "for i in range (x_test_length):\n",
    "    print(end='    ')\n",
    "    print(predicted[i], end='          ')\n",
    "    print(y_test[i])"
   ]
  },
  {
   "cell_type": "code",
   "execution_count": 6,
   "outputs": [
    {
     "name": "stdout",
     "output_type": "stream",
     "text": [
      "Predicted   Actual\n",
      "    2          2\n",
      "    0          0\n",
      "    2          2\n",
      "    2          2\n",
      "    2          2\n",
      "    1          1\n",
      "    2          1\n",
      "    0          0\n",
      "    0          0\n",
      "    2          2\n",
      "    0          0\n",
      "    0          0\n",
      "    0          0\n",
      "    1          1\n",
      "    2          2\n",
      "    0          0\n",
      "    1          1\n",
      "    0          0\n",
      "    0          0\n",
      "    2          2\n",
      "    0          0\n",
      "    2          2\n",
      "    1          1\n",
      "    0          0\n",
      "    0          0\n",
      "    0          0\n",
      "    0          0\n",
      "    0          0\n",
      "    0          0\n",
      "    2          2\n"
     ]
    }
   ],
   "source": [
    "from sklearn import tree\n",
    "model = tree.DecisionTreeClassifier()\n",
    "model.fit(x_train,y_train)\n",
    "predicted_tree = model.predict(x_test)\n",
    "print('Predicted', end='   ')\n",
    "print('Actual')\n",
    "for i in range (x_test_length):\n",
    "    print(end='    ')\n",
    "    print(predicted_tree[i], end='          ')\n",
    "    print(y_test[i])\n",
    "\n"
   ],
   "metadata": {
    "collapsed": false,
    "pycharm": {
     "name": "#%%\n"
    }
   }
  },
  {
   "cell_type": "code",
   "execution_count": null,
   "outputs": [],
   "source": [],
   "metadata": {
    "collapsed": false,
    "pycharm": {
     "name": "#%%\n"
    }
   }
  }
 ],
 "metadata": {
  "kernelspec": {
   "name": "machinelearningenv",
   "language": "python",
   "display_name": "Python (MachineLearningEnv)"
  },
  "language_info": {
   "codemirror_mode": {
    "name": "ipython",
    "version": 2
   },
   "file_extension": ".py",
   "mimetype": "text/x-python",
   "name": "python",
   "nbconvert_exporter": "python",
   "pygments_lexer": "ipython2",
   "version": "2.7.6"
  }
 },
 "nbformat": 4,
 "nbformat_minor": 0
}