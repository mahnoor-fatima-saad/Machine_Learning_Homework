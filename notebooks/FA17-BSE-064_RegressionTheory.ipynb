{
 "cells": [
  {
   "cell_type": "code",
   "execution_count": 4,
   "metadata": {
    "collapsed": true
   },
   "outputs": [
    {
     "name": "stdout",
     "output_type": "stream",
     "text": [
      "725\n",
      "1011\n",
      "[[88.3622291 ]\n",
      " [74.90402477]\n",
      " [79.39009288]\n",
      " [88.3622291 ]\n",
      " [79.39009288]\n",
      " [92.84829721]\n",
      " [88.3622291 ]\n",
      " [92.84829721]\n",
      " [79.39009288]\n",
      " [92.84829721]\n",
      " [74.90402477]\n",
      " [79.39009288]]\n"
     ]
    },
    {
     "data": {
      "text/plain": "<Figure size 432x288 with 1 Axes>",
      "image/png": "[encoded data removed]"
     },
     "metadata": {
      "needs_background": "light"
     },
     "output_type": "display_data"
    }
   ],
   "source": [
    "import numpy as np\n",
    "from sklearn.linear_model import LinearRegression\n",
    "import matplotlib.pyplot as plt\n",
    "\n",
    "x = np.array([65,50,55,65,55,70,65,70,55,70,50,55])\n",
    "print(np.sum(x))\n",
    "\n",
    "y = np.array([85,74,76,90,85,87,94,98,81,91,76,74])\n",
    "print(np.sum(y))\n",
    "\n",
    "x = x.reshape(-1,1)\n",
    "y = y.reshape(-1,1)\n",
    "\n",
    "model = LinearRegression()\n",
    "model.fit(x,y)\n",
    "yhat = model.predict(x)\n",
    "\n",
    "print(yhat)\n",
    "\n",
    "plt.scatter(x,y)\n",
    "plt.plot(x,yhat)\n",
    "plt.show()"
   ]
  },
  {
   "cell_type": "code",
   "execution_count": null,
   "outputs": [],
   "source": [],
   "metadata": {
    "collapsed": false,
    "pycharm": {
     "name": "#%%\n"
    }
   }
  }
 ],
 "metadata": {
  "kernelspec": {
   "name": "machinelearningenv",
   "language": "python",
   "display_name": "Python (MachineLearningEnv)"
  },
  "language_info": {
   "codemirror_mode": {
    "name": "ipython",
    "version": 2
   },
   "file_extension": ".py",
   "mimetype": "text/x-python",
   "name": "python",
   "nbconvert_exporter": "python",
   "pygments_lexer": "ipython2",
   "version": "2.7.6"
  }
 },
 "nbformat": 4,
 "nbformat_minor": 0
}